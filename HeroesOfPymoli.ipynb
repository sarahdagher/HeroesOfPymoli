{
 "cells": [
  {
   "cell_type": "code",
   "execution_count": 4,
   "metadata": {},
   "outputs": [],
   "source": [
    "#dependencies\n",
    "import os\n",
    "import pandas as pd\n",
    "import numpy as np"
   ]
  },
  {
   "cell_type": "code",
   "execution_count": 5,
   "metadata": {},
   "outputs": [
    {
     "data": {
      "text/html": [
       "<div>\n",
       "<style scoped>\n",
       "    .dataframe tbody tr th:only-of-type {\n",
       "        vertical-align: middle;\n",
       "    }\n",
       "\n",
       "    .dataframe tbody tr th {\n",
       "        vertical-align: top;\n",
       "    }\n",
       "\n",
       "    .dataframe thead th {\n",
       "        text-align: right;\n",
       "    }\n",
       "</style>\n",
       "<table border=\"1\" class=\"dataframe\">\n",
       "  <thead>\n",
       "    <tr style=\"text-align: right;\">\n",
       "      <th></th>\n",
       "      <th>Age</th>\n",
       "      <th>Gender</th>\n",
       "      <th>Item ID</th>\n",
       "      <th>Item Name</th>\n",
       "      <th>Price</th>\n",
       "      <th>SN</th>\n",
       "    </tr>\n",
       "  </thead>\n",
       "  <tbody>\n",
       "    <tr>\n",
       "      <th>0</th>\n",
       "      <td>38</td>\n",
       "      <td>Male</td>\n",
       "      <td>165</td>\n",
       "      <td>Bone Crushing Silver Skewer</td>\n",
       "      <td>3.37</td>\n",
       "      <td>Aelalis34</td>\n",
       "    </tr>\n",
       "    <tr>\n",
       "      <th>1</th>\n",
       "      <td>21</td>\n",
       "      <td>Male</td>\n",
       "      <td>119</td>\n",
       "      <td>Stormbringer, Dark Blade of Ending Misery</td>\n",
       "      <td>2.32</td>\n",
       "      <td>Eolo46</td>\n",
       "    </tr>\n",
       "    <tr>\n",
       "      <th>2</th>\n",
       "      <td>34</td>\n",
       "      <td>Male</td>\n",
       "      <td>174</td>\n",
       "      <td>Primitive Blade</td>\n",
       "      <td>2.46</td>\n",
       "      <td>Assastnya25</td>\n",
       "    </tr>\n",
       "    <tr>\n",
       "      <th>3</th>\n",
       "      <td>21</td>\n",
       "      <td>Male</td>\n",
       "      <td>92</td>\n",
       "      <td>Final Critic</td>\n",
       "      <td>1.36</td>\n",
       "      <td>Pheusrical25</td>\n",
       "    </tr>\n",
       "    <tr>\n",
       "      <th>4</th>\n",
       "      <td>23</td>\n",
       "      <td>Male</td>\n",
       "      <td>63</td>\n",
       "      <td>Stormfury Mace</td>\n",
       "      <td>1.27</td>\n",
       "      <td>Aela59</td>\n",
       "    </tr>\n",
       "  </tbody>\n",
       "</table>\n",
       "</div>"
      ],
      "text/plain": [
       "   Age Gender  Item ID                                  Item Name  Price  \\\n",
       "0   38   Male      165                Bone Crushing Silver Skewer   3.37   \n",
       "1   21   Male      119  Stormbringer, Dark Blade of Ending Misery   2.32   \n",
       "2   34   Male      174                            Primitive Blade   2.46   \n",
       "3   21   Male       92                               Final Critic   1.36   \n",
       "4   23   Male       63                             Stormfury Mace   1.27   \n",
       "\n",
       "             SN  \n",
       "0     Aelalis34  \n",
       "1        Eolo46  \n",
       "2   Assastnya25  \n",
       "3  Pheusrical25  \n",
       "4        Aela59  "
      ]
     },
     "execution_count": 5,
     "metadata": {},
     "output_type": "execute_result"
    }
   ],
   "source": [
    "#load in data\n",
    "file = os.path.join('purchase_data.json')\n",
    "pur_df = pd.read_json(file)\n",
    "pur_df.head()"
   ]
  },
  {
   "cell_type": "code",
   "execution_count": 6,
   "metadata": {},
   "outputs": [
    {
     "data": {
      "text/html": [
       "<div>\n",
       "<style scoped>\n",
       "    .dataframe tbody tr th:only-of-type {\n",
       "        vertical-align: middle;\n",
       "    }\n",
       "\n",
       "    .dataframe tbody tr th {\n",
       "        vertical-align: top;\n",
       "    }\n",
       "\n",
       "    .dataframe thead th {\n",
       "        text-align: right;\n",
       "    }\n",
       "</style>\n",
       "<table border=\"1\" class=\"dataframe\">\n",
       "  <thead>\n",
       "    <tr style=\"text-align: right;\">\n",
       "      <th></th>\n",
       "    </tr>\n",
       "    <tr>\n",
       "      <th>Total Players</th>\n",
       "    </tr>\n",
       "  </thead>\n",
       "  <tbody>\n",
       "    <tr>\n",
       "      <th>573</th>\n",
       "    </tr>\n",
       "  </tbody>\n",
       "</table>\n",
       "</div>"
      ],
      "text/plain": [
       "Empty DataFrame\n",
       "Columns: []\n",
       "Index: [573]"
      ]
     },
     "execution_count": 6,
     "metadata": {},
     "output_type": "execute_result"
    }
   ],
   "source": [
    "#show total number of players only\n",
    "total_players = len(pur_df['SN'].unique())\n",
    "total_players_df = pd.DataFrame([{'Total Players': total_players}])\n",
    "total_players_df.set_index('Total Players', inplace = True)\n",
    "total_players_df"
   ]
  },
  {
   "cell_type": "code",
   "execution_count": 7,
   "metadata": {},
   "outputs": [
    {
     "name": "stdout",
     "output_type": "stream",
     "text": [
      "   Average Purchase Price  Number of Unique Items  \\\n",
      "0                    2.93                     183   \n",
      "\n",
      "                                     Total Purchases  Total Revenue  \n",
      "0  <bound method Series.count of 0      3.37\\n1  ...        2286.33  \n"
     ]
    }
   ],
   "source": [
    "#purcahse analysis (total)\n",
    "\n",
    "#number of unique items\n",
    "no_multiples = pur_df.drop_duplicates(['Item ID'], keep = 'last')\n",
    "total_unique = len(no_multiples)\n",
    "\n",
    "#total number of purchases\n",
    "total_pur = pur_df['Price'].count\n",
    "\n",
    "#total revenue\n",
    "total_rev = round(pur_df['Price'].sum(),2)\n",
    "\n",
    "#average purchase price (total revenue/total purchases)\n",
    "avg_price = round(total_rev/total_pur(), 2)\n",
    "\n",
    "\n",
    "#create data frame\n",
    "pur_analysis = pd.DataFrame([{\n",
    "    \n",
    "    \"Number of Unique Items\": total_unique,\n",
    "    'Average Purchase Price': avg_price,\n",
    "    'Total Purchases': total_pur,\n",
    "    'Total Revenue': total_rev}])\n",
    "\n",
    "#check data frame\n",
    "print(pur_analysis)"
   ]
  },
  {
   "cell_type": "code",
   "execution_count": 8,
   "metadata": {},
   "outputs": [
    {
     "data": {
      "text/html": [
       "<style  type=\"text/css\" >\n",
       "</style>  \n",
       "<table id=\"T_1e62cb08_56d4_11e8_a12a_acbc32a6fa5b\" > \n",
       "<thead>    <tr> \n",
       "        <th class=\"blank level0\" ></th> \n",
       "        <th class=\"col_heading level0 col0\" >Average Purchase Price</th> \n",
       "        <th class=\"col_heading level0 col1\" >Number of Unique Items</th> \n",
       "        <th class=\"col_heading level0 col2\" >Total Purchases</th> \n",
       "        <th class=\"col_heading level0 col3\" >Total Revenue</th> \n",
       "    </tr></thead> \n",
       "<tbody>    <tr> \n",
       "        <th id=\"T_1e62cb08_56d4_11e8_a12a_acbc32a6fa5blevel0_row0\" class=\"row_heading level0 row0\" >0</th> \n",
       "        <td id=\"T_1e62cb08_56d4_11e8_a12a_acbc32a6fa5brow0_col0\" class=\"data row0 col0\" >$2.93</td> \n",
       "        <td id=\"T_1e62cb08_56d4_11e8_a12a_acbc32a6fa5brow0_col1\" class=\"data row0 col1\" >183</td> \n",
       "        <td id=\"T_1e62cb08_56d4_11e8_a12a_acbc32a6fa5brow0_col2\" class=\"data row0 col2\" ><bound method Series.count of 0      3.37\n",
       "1      2.32\n",
       "2      2.46\n",
       "3      1.36\n",
       "4      1.27\n",
       "5      1.73\n",
       "6      4.57\n",
       "7      3.32\n",
       "8      2.77\n",
       "9      4.53\n",
       "10     3.81\n",
       "11     1.55\n",
       "12     4.06\n",
       "13     3.68\n",
       "14     2.46\n",
       "15     4.77\n",
       "16     1.14\n",
       "17     1.65\n",
       "18     3.71\n",
       "19     4.89\n",
       "20     2.33\n",
       "21     1.79\n",
       "22     2.52\n",
       "23     2.36\n",
       "24     1.96\n",
       "25     1.27\n",
       "26     3.90\n",
       "27     2.29\n",
       "28     4.23\n",
       "29     2.46\n",
       "       ... \n",
       "750    1.28\n",
       "751    1.88\n",
       "752    2.37\n",
       "753    2.28\n",
       "754    1.36\n",
       "755    1.88\n",
       "756    1.20\n",
       "757    2.52\n",
       "758    1.21\n",
       "759    2.20\n",
       "760    4.06\n",
       "761    1.24\n",
       "762    4.39\n",
       "763    4.32\n",
       "764    3.89\n",
       "765    1.49\n",
       "766    2.23\n",
       "767    1.21\n",
       "768    3.56\n",
       "769    3.74\n",
       "770    3.27\n",
       "771    1.03\n",
       "772    2.07\n",
       "773    2.46\n",
       "774    1.14\n",
       "775    3.62\n",
       "776    1.36\n",
       "777    4.15\n",
       "778    1.72\n",
       "779    3.61\n",
       "Name: Price, Length: 780, dtype: float64></td> \n",
       "        <td id=\"T_1e62cb08_56d4_11e8_a12a_acbc32a6fa5brow0_col3\" class=\"data row0 col3\" >$2,286.33</td> \n",
       "    </tr></tbody> \n",
       "</table> "
      ],
      "text/plain": [
       "<pandas.io.formats.style.Styler at 0x10e559a20>"
      ]
     },
     "execution_count": 8,
     "metadata": {},
     "output_type": "execute_result"
    }
   ],
   "source": [
    "#format purchase analysis (total) data\n",
    "pur_analysis.style.format({'Average Purchase Price': '${:.2f}', 'Total Revenue': '${:,.2f}'})"
   ]
  },
  {
   "cell_type": "code",
   "execution_count": 9,
   "metadata": {},
   "outputs": [],
   "source": [
    "#Gender Demographics"
   ]
  },
  {
   "cell_type": "code",
   "execution_count": 10,
   "metadata": {},
   "outputs": [
    {
     "data": {
      "text/html": [
       "<style  type=\"text/css\" >\n",
       "</style>  \n",
       "<table id=\"T_2055c88c_56d4_11e8_b49e_acbc32a6fa5b\" > \n",
       "<thead>    <tr> \n",
       "        <th class=\"blank level0\" ></th> \n",
       "        <th class=\"col_heading level0 col0\" ># of Players</th> \n",
       "        <th class=\"col_heading level0 col1\" >% of Players</th> \n",
       "    </tr>    <tr> \n",
       "        <th class=\"index_name level0\" >Gender</th> \n",
       "        <th class=\"blank\" ></th> \n",
       "        <th class=\"blank\" ></th> \n",
       "    </tr></thead> \n",
       "<tbody>    <tr> \n",
       "        <th id=\"T_2055c88c_56d4_11e8_b49e_acbc32a6fa5blevel0_row0\" class=\"row_heading level0 row0\" >Male</th> \n",
       "        <td id=\"T_2055c88c_56d4_11e8_b49e_acbc32a6fa5brow0_col0\" class=\"data row0 col0\" >465</td> \n",
       "        <td id=\"T_2055c88c_56d4_11e8_b49e_acbc32a6fa5brow0_col1\" class=\"data row0 col1\" >81.2%</td> \n",
       "    </tr>    <tr> \n",
       "        <th id=\"T_2055c88c_56d4_11e8_b49e_acbc32a6fa5blevel0_row1\" class=\"row_heading level0 row1\" >Female</th> \n",
       "        <td id=\"T_2055c88c_56d4_11e8_b49e_acbc32a6fa5brow1_col0\" class=\"data row1 col0\" >100</td> \n",
       "        <td id=\"T_2055c88c_56d4_11e8_b49e_acbc32a6fa5brow1_col1\" class=\"data row1 col1\" >17.5%</td> \n",
       "    </tr>    <tr> \n",
       "        <th id=\"T_2055c88c_56d4_11e8_b49e_acbc32a6fa5blevel0_row2\" class=\"row_heading level0 row2\" >Other / Non-Disclosed</th> \n",
       "        <td id=\"T_2055c88c_56d4_11e8_b49e_acbc32a6fa5brow2_col0\" class=\"data row2 col0\" >8</td> \n",
       "        <td id=\"T_2055c88c_56d4_11e8_b49e_acbc32a6fa5brow2_col1\" class=\"data row2 col1\" >1.4%</td> \n",
       "    </tr></tbody> \n",
       "</table> "
      ],
      "text/plain": [
       "<pandas.io.formats.style.Styler at 0x10f019b00>"
      ]
     },
     "execution_count": 10,
     "metadata": {},
     "output_type": "execute_result"
    }
   ],
   "source": [
    "# Percentage and count of players \n",
    "no_dup_players = pur_df.drop_duplicates(['SN'], keep ='last')\n",
    "gender_count = no_dup_players['Gender'].value_counts().reset_index()\n",
    "gender_count['% of Players'] = gender_count['Gender']/total_players * 100\n",
    "#rename columns\n",
    "gender_count.rename(columns = {'index': 'Gender', 'Gender': '# of Players'}, inplace = True)\n",
    "#fix index\n",
    "gender_count.set_index(['Gender'], inplace = True)\n",
    "gender_count.style.format({\"% of Players\": \"{:.1f}%\"})\n"
   ]
  },
  {
   "cell_type": "code",
   "execution_count": 11,
   "metadata": {},
   "outputs": [],
   "source": [
    "#Purchasing Analysis (Gender)\n"
   ]
  },
  {
   "cell_type": "code",
   "execution_count": 12,
   "metadata": {},
   "outputs": [],
   "source": [
    "#purchase count by gender\n",
    "pur_count_gen = pd.DataFrame(pur_df.groupby('Gender')['Gender'].count())"
   ]
  },
  {
   "cell_type": "code",
   "execution_count": 13,
   "metadata": {},
   "outputs": [],
   "source": [
    "#Total Purchase Value\n",
    "total_pur_val_gen = pd.DataFrame(pur_df.groupby('Gender')['Price'].sum())"
   ]
  },
  {
   "cell_type": "code",
   "execution_count": 14,
   "metadata": {},
   "outputs": [],
   "source": [
    "#merge purchase count and total value\n",
    "pur_analysis_gen = pd.merge(pur_count_gen, total_pur_val_gen, left_index = True, right_index = True)\n"
   ]
  },
  {
   "cell_type": "code",
   "execution_count": 15,
   "metadata": {},
   "outputs": [],
   "source": [
    "#rename columns\n",
    "pur_analysis_gen.rename(columns = {'Gender': '# of Purchases', 'Price':'Total Purchase Value'}, inplace=True)\n"
   ]
  },
  {
   "cell_type": "code",
   "execution_count": 16,
   "metadata": {},
   "outputs": [],
   "source": [
    "#new column - average purchase price\n",
    "pur_analysis_gen['Average Purchase Price'] = pur_analysis_gen['Total Purchase Value']/pur_analysis_gen['# of Purchases']\n"
   ]
  },
  {
   "cell_type": "code",
   "execution_count": 17,
   "metadata": {},
   "outputs": [],
   "source": [
    "#add gender count\n",
    "pur_analysis_gen = pur_analysis_gen.merge(gender_count, left_index = True, right_index = True)\n"
   ]
  },
  {
   "cell_type": "code",
   "execution_count": 18,
   "metadata": {},
   "outputs": [
    {
     "data": {
      "text/html": [
       "<div>\n",
       "<style scoped>\n",
       "    .dataframe tbody tr th:only-of-type {\n",
       "        vertical-align: middle;\n",
       "    }\n",
       "\n",
       "    .dataframe tbody tr th {\n",
       "        vertical-align: top;\n",
       "    }\n",
       "\n",
       "    .dataframe thead th {\n",
       "        text-align: right;\n",
       "    }\n",
       "</style>\n",
       "<table border=\"1\" class=\"dataframe\">\n",
       "  <thead>\n",
       "    <tr style=\"text-align: right;\">\n",
       "      <th></th>\n",
       "      <th># of Purchases</th>\n",
       "      <th>Total Purchase Value</th>\n",
       "      <th>Average Purchase Price</th>\n",
       "      <th># of Players</th>\n",
       "      <th>% of Players</th>\n",
       "      <th>Normalized Totals</th>\n",
       "    </tr>\n",
       "    <tr>\n",
       "      <th>Gender</th>\n",
       "      <th></th>\n",
       "      <th></th>\n",
       "      <th></th>\n",
       "      <th></th>\n",
       "      <th></th>\n",
       "      <th></th>\n",
       "    </tr>\n",
       "  </thead>\n",
       "  <tbody>\n",
       "    <tr>\n",
       "      <th>Female</th>\n",
       "      <td>136</td>\n",
       "      <td>382.91</td>\n",
       "      <td>2.815515</td>\n",
       "      <td>100</td>\n",
       "      <td>17.452007</td>\n",
       "      <td>3.829100</td>\n",
       "    </tr>\n",
       "    <tr>\n",
       "      <th>Male</th>\n",
       "      <td>633</td>\n",
       "      <td>1867.68</td>\n",
       "      <td>2.950521</td>\n",
       "      <td>465</td>\n",
       "      <td>81.151832</td>\n",
       "      <td>4.016516</td>\n",
       "    </tr>\n",
       "    <tr>\n",
       "      <th>Other / Non-Disclosed</th>\n",
       "      <td>11</td>\n",
       "      <td>35.74</td>\n",
       "      <td>3.249091</td>\n",
       "      <td>8</td>\n",
       "      <td>1.396161</td>\n",
       "      <td>4.467500</td>\n",
       "    </tr>\n",
       "  </tbody>\n",
       "</table>\n",
       "</div>"
      ],
      "text/plain": [
       "                       # of Purchases  Total Purchase Value  \\\n",
       "Gender                                                        \n",
       "Female                            136                382.91   \n",
       "Male                              633               1867.68   \n",
       "Other / Non-Disclosed              11                 35.74   \n",
       "\n",
       "                       Average Purchase Price  # of Players  % of Players  \\\n",
       "Gender                                                                      \n",
       "Female                               2.815515           100     17.452007   \n",
       "Male                                 2.950521           465     81.151832   \n",
       "Other / Non-Disclosed                3.249091             8      1.396161   \n",
       "\n",
       "                       Normalized Totals  \n",
       "Gender                                    \n",
       "Female                          3.829100  \n",
       "Male                            4.016516  \n",
       "Other / Non-Disclosed           4.467500  "
      ]
     },
     "execution_count": 18,
     "metadata": {},
     "output_type": "execute_result"
    }
   ],
   "source": [
    "#normalized totals (total purchase value/unique # of players by gender)\n",
    "pur_analysis_gen['Normalized Totals'] = pur_analysis_gen['Total Purchase Value']/pur_analysis_gen['# of Players']\n",
    "pur_analysis_gen"
   ]
  },
  {
   "cell_type": "code",
   "execution_count": 19,
   "metadata": {},
   "outputs": [
    {
     "data": {
      "text/html": [
       "<div>\n",
       "<style scoped>\n",
       "    .dataframe tbody tr th:only-of-type {\n",
       "        vertical-align: middle;\n",
       "    }\n",
       "\n",
       "    .dataframe tbody tr th {\n",
       "        vertical-align: top;\n",
       "    }\n",
       "\n",
       "    .dataframe thead th {\n",
       "        text-align: right;\n",
       "    }\n",
       "</style>\n",
       "<table border=\"1\" class=\"dataframe\">\n",
       "  <thead>\n",
       "    <tr style=\"text-align: right;\">\n",
       "      <th></th>\n",
       "      <th># of Purchases</th>\n",
       "      <th>Total Purchase Value</th>\n",
       "      <th>Average Purchase Price</th>\n",
       "      <th>Normalized Totals</th>\n",
       "    </tr>\n",
       "    <tr>\n",
       "      <th>Gender</th>\n",
       "      <th></th>\n",
       "      <th></th>\n",
       "      <th></th>\n",
       "      <th></th>\n",
       "    </tr>\n",
       "  </thead>\n",
       "  <tbody>\n",
       "    <tr>\n",
       "      <th>Female</th>\n",
       "      <td>136</td>\n",
       "      <td>382.91</td>\n",
       "      <td>2.815515</td>\n",
       "      <td>3.829100</td>\n",
       "    </tr>\n",
       "    <tr>\n",
       "      <th>Male</th>\n",
       "      <td>633</td>\n",
       "      <td>1867.68</td>\n",
       "      <td>2.950521</td>\n",
       "      <td>4.016516</td>\n",
       "    </tr>\n",
       "    <tr>\n",
       "      <th>Other / Non-Disclosed</th>\n",
       "      <td>11</td>\n",
       "      <td>35.74</td>\n",
       "      <td>3.249091</td>\n",
       "      <td>4.467500</td>\n",
       "    </tr>\n",
       "  </tbody>\n",
       "</table>\n",
       "</div>"
      ],
      "text/plain": [
       "                       # of Purchases  Total Purchase Value  \\\n",
       "Gender                                                        \n",
       "Female                            136                382.91   \n",
       "Male                              633               1867.68   \n",
       "Other / Non-Disclosed              11                 35.74   \n",
       "\n",
       "                       Average Purchase Price  Normalized Totals  \n",
       "Gender                                                            \n",
       "Female                               2.815515           3.829100  \n",
       "Male                                 2.950521           4.016516  \n",
       "Other / Non-Disclosed                3.249091           4.467500  "
      ]
     },
     "execution_count": 19,
     "metadata": {},
     "output_type": "execute_result"
    }
   ],
   "source": [
    "#remove number/percent of players. we don't need those columns.\n",
    "del pur_analysis_gen['% of Players']\n",
    "del pur_analysis_gen['# of Players']\n",
    "pur_analysis_gen"
   ]
  },
  {
   "cell_type": "code",
   "execution_count": 20,
   "metadata": {},
   "outputs": [
    {
     "data": {
      "text/html": [
       "<style  type=\"text/css\" >\n",
       "</style>  \n",
       "<table id=\"T_2b0c7f7a_56d4_11e8_821f_acbc32a6fa5b\" > \n",
       "<thead>    <tr> \n",
       "        <th class=\"blank level0\" ></th> \n",
       "        <th class=\"col_heading level0 col0\" ># of Purchases</th> \n",
       "        <th class=\"col_heading level0 col1\" >Total Purchase Value</th> \n",
       "        <th class=\"col_heading level0 col2\" >Average Purchase Price</th> \n",
       "        <th class=\"col_heading level0 col3\" >Normalized Totals</th> \n",
       "    </tr>    <tr> \n",
       "        <th class=\"index_name level0\" >Gender</th> \n",
       "        <th class=\"blank\" ></th> \n",
       "        <th class=\"blank\" ></th> \n",
       "        <th class=\"blank\" ></th> \n",
       "        <th class=\"blank\" ></th> \n",
       "    </tr></thead> \n",
       "<tbody>    <tr> \n",
       "        <th id=\"T_2b0c7f7a_56d4_11e8_821f_acbc32a6fa5blevel0_row0\" class=\"row_heading level0 row0\" >Female</th> \n",
       "        <td id=\"T_2b0c7f7a_56d4_11e8_821f_acbc32a6fa5brow0_col0\" class=\"data row0 col0\" >136</td> \n",
       "        <td id=\"T_2b0c7f7a_56d4_11e8_821f_acbc32a6fa5brow0_col1\" class=\"data row0 col1\" >$382.91</td> \n",
       "        <td id=\"T_2b0c7f7a_56d4_11e8_821f_acbc32a6fa5brow0_col2\" class=\"data row0 col2\" >$2.82</td> \n",
       "        <td id=\"T_2b0c7f7a_56d4_11e8_821f_acbc32a6fa5brow0_col3\" class=\"data row0 col3\" >$3.83</td> \n",
       "    </tr>    <tr> \n",
       "        <th id=\"T_2b0c7f7a_56d4_11e8_821f_acbc32a6fa5blevel0_row1\" class=\"row_heading level0 row1\" >Male</th> \n",
       "        <td id=\"T_2b0c7f7a_56d4_11e8_821f_acbc32a6fa5brow1_col0\" class=\"data row1 col0\" >633</td> \n",
       "        <td id=\"T_2b0c7f7a_56d4_11e8_821f_acbc32a6fa5brow1_col1\" class=\"data row1 col1\" >$1867.68</td> \n",
       "        <td id=\"T_2b0c7f7a_56d4_11e8_821f_acbc32a6fa5brow1_col2\" class=\"data row1 col2\" >$2.95</td> \n",
       "        <td id=\"T_2b0c7f7a_56d4_11e8_821f_acbc32a6fa5brow1_col3\" class=\"data row1 col3\" >$4.02</td> \n",
       "    </tr>    <tr> \n",
       "        <th id=\"T_2b0c7f7a_56d4_11e8_821f_acbc32a6fa5blevel0_row2\" class=\"row_heading level0 row2\" >Other / Non-Disclosed</th> \n",
       "        <td id=\"T_2b0c7f7a_56d4_11e8_821f_acbc32a6fa5brow2_col0\" class=\"data row2 col0\" >11</td> \n",
       "        <td id=\"T_2b0c7f7a_56d4_11e8_821f_acbc32a6fa5brow2_col1\" class=\"data row2 col1\" >$35.74</td> \n",
       "        <td id=\"T_2b0c7f7a_56d4_11e8_821f_acbc32a6fa5brow2_col2\" class=\"data row2 col2\" >$3.25</td> \n",
       "        <td id=\"T_2b0c7f7a_56d4_11e8_821f_acbc32a6fa5brow2_col3\" class=\"data row2 col3\" >$4.47</td> \n",
       "    </tr></tbody> \n",
       "</table> "
      ],
      "text/plain": [
       "<pandas.io.formats.style.Styler at 0x10f019320>"
      ]
     },
     "execution_count": 20,
     "metadata": {},
     "output_type": "execute_result"
    }
   ],
   "source": [
    "#fix formatting\n",
    "pur_analysis_gen.style.format({'Total Purchase Value': '${:.2f}', 'Average Purchase Price': '${:.2f}', 'Normalized Totals': '${:.2f}'})"
   ]
  },
  {
   "cell_type": "code",
   "execution_count": 21,
   "metadata": {},
   "outputs": [],
   "source": [
    "#age demographics"
   ]
  },
  {
   "cell_type": "code",
   "execution_count": 22,
   "metadata": {},
   "outputs": [],
   "source": [
    "#create rows based on age ranges\n",
    "pur_df.loc[(pur_df['Age'] < 10), 'age_bin'] = \"< 10\"\n",
    "pur_df.loc[(pur_df['Age'] >= 10) & (pur_df['Age'] <= 14), 'age_bin'] = \"10 - 14\"\n",
    "pur_df.loc[(pur_df['Age'] >= 15) & (pur_df['Age'] <= 19), 'age_bin'] = \"15 - 19\"\n",
    "pur_df.loc[(pur_df['Age'] >= 20) & (pur_df['Age'] <= 24), 'age_bin'] = \"20 - 24\"\n",
    "pur_df.loc[(pur_df['Age'] >= 25) & (pur_df['Age'] <= 29), 'age_bin'] = \"25 - 29\"\n",
    "pur_df.loc[(pur_df['Age'] >= 30) & (pur_df['Age'] <= 34), 'age_bin'] = \"30 - 34\"\n",
    "pur_df.loc[(pur_df['Age'] >= 35) & (pur_df['Age'] <= 39), 'age_bin'] = \"35 - 39\"\n",
    "pur_df.loc[(pur_df['Age'] >= 40), 'age_bin'] = \"> 40\""
   ]
  },
  {
   "cell_type": "code",
   "execution_count": 25,
   "metadata": {},
   "outputs": [],
   "source": [
    "#pur_data[['age_bin', 'Age']].count() to check"
   ]
  },
  {
   "cell_type": "code",
   "execution_count": 28,
   "metadata": {},
   "outputs": [],
   "source": [
    "# count purchases by age bin - usingscreen names (non-unique)\n",
    "pur_count_age = pd.DataFrame(pur_df.groupby('age_bin')['SN'].count())"
   ]
  },
  {
   "cell_type": "code",
   "execution_count": 29,
   "metadata": {},
   "outputs": [],
   "source": [
    "#find averageg price of purchases by age bin\n",
    "avg_price_age = pd.DataFrame(pur_df.groupby('age_bin')['Price'].mean())"
   ]
  },
  {
   "cell_type": "code",
   "execution_count": 30,
   "metadata": {},
   "outputs": [],
   "source": [
    "#finds total purchase value by age bin\n",
    "tot_pur_age = pd.DataFrame(pur_df.groupby('age_bin')['Price'].sum())"
   ]
  },
  {
   "cell_type": "code",
   "execution_count": 31,
   "metadata": {},
   "outputs": [],
   "source": [
    "#delete duplicate screen names while only keeping last, then counts # of unique players by age bin\n",
    "no_dup_age = pd.DataFrame(pur_df.drop_duplicates('SN', keep = 'last').groupby('age_bin')['SN'].count())"
   ]
  },
  {
   "cell_type": "code",
   "execution_count": 32,
   "metadata": {},
   "outputs": [],
   "source": [
    "#merge\n",
    "merge_age = pd.merge(pur_count_age, avg_price_age, left_index = True, right_index = True).merge(tot_pur_age, left_index = True, right_index = True).merge(no_dup_age, left_index = True, right_index = True)"
   ]
  },
  {
   "cell_type": "code",
   "execution_count": 33,
   "metadata": {},
   "outputs": [],
   "source": [
    "#renames column\n",
    "merge_age.rename(columns = {\"SN_x\": \"# of Purchases\", \"Price_x\": \"Average Purchase Price\", \"Price_y\": \"Total Purchase Value\", \"SN_y\": \"# of Purchasers\"}, inplace = True)\n"
   ]
  },
  {
   "cell_type": "code",
   "execution_count": 34,
   "metadata": {},
   "outputs": [],
   "source": [
    "#calculates normalized totals\n",
    "merge_age['Normalized Totals'] = merge_age['Total Purchase Value']/merge_age['# of Purchasers']"
   ]
  },
  {
   "cell_type": "code",
   "execution_count": 35,
   "metadata": {},
   "outputs": [
    {
     "data": {
      "text/html": [
       "<style  type=\"text/css\" >\n",
       "</style>  \n",
       "<table id=\"T_b0acce7a_56d5_11e8_899f_acbc32a6fa5b\" > \n",
       "<thead>    <tr> \n",
       "        <th class=\"blank level0\" ></th> \n",
       "        <th class=\"col_heading level0 col0\" ># of Purchases</th> \n",
       "        <th class=\"col_heading level0 col1\" >Average Purchase Price</th> \n",
       "        <th class=\"col_heading level0 col2\" >Total Purchase Value</th> \n",
       "        <th class=\"col_heading level0 col3\" ># of Purchasers</th> \n",
       "        <th class=\"col_heading level0 col4\" >Normalized Totals</th> \n",
       "    </tr>    <tr> \n",
       "        <th class=\"index_name level0\" >Age</th> \n",
       "        <th class=\"blank\" ></th> \n",
       "        <th class=\"blank\" ></th> \n",
       "        <th class=\"blank\" ></th> \n",
       "        <th class=\"blank\" ></th> \n",
       "        <th class=\"blank\" ></th> \n",
       "    </tr></thead> \n",
       "<tbody>    <tr> \n",
       "        <th id=\"T_b0acce7a_56d5_11e8_899f_acbc32a6fa5blevel0_row0\" class=\"row_heading level0 row0\" >10 - 14</th> \n",
       "        <td id=\"T_b0acce7a_56d5_11e8_899f_acbc32a6fa5brow0_col0\" class=\"data row0 col0\" >35</td> \n",
       "        <td id=\"T_b0acce7a_56d5_11e8_899f_acbc32a6fa5brow0_col1\" class=\"data row0 col1\" >$2.77</td> \n",
       "        <td id=\"T_b0acce7a_56d5_11e8_899f_acbc32a6fa5brow0_col2\" class=\"data row0 col2\" >$96.95</td> \n",
       "        <td id=\"T_b0acce7a_56d5_11e8_899f_acbc32a6fa5brow0_col3\" class=\"data row0 col3\" >23</td> \n",
       "        <td id=\"T_b0acce7a_56d5_11e8_899f_acbc32a6fa5brow0_col4\" class=\"data row0 col4\" >$4.22</td> \n",
       "    </tr>    <tr> \n",
       "        <th id=\"T_b0acce7a_56d5_11e8_899f_acbc32a6fa5blevel0_row1\" class=\"row_heading level0 row1\" >15 - 19</th> \n",
       "        <td id=\"T_b0acce7a_56d5_11e8_899f_acbc32a6fa5brow1_col0\" class=\"data row1 col0\" >133</td> \n",
       "        <td id=\"T_b0acce7a_56d5_11e8_899f_acbc32a6fa5brow1_col1\" class=\"data row1 col1\" >$2.91</td> \n",
       "        <td id=\"T_b0acce7a_56d5_11e8_899f_acbc32a6fa5brow1_col2\" class=\"data row1 col2\" >$386.42</td> \n",
       "        <td id=\"T_b0acce7a_56d5_11e8_899f_acbc32a6fa5brow1_col3\" class=\"data row1 col3\" >100</td> \n",
       "        <td id=\"T_b0acce7a_56d5_11e8_899f_acbc32a6fa5brow1_col4\" class=\"data row1 col4\" >$3.86</td> \n",
       "    </tr>    <tr> \n",
       "        <th id=\"T_b0acce7a_56d5_11e8_899f_acbc32a6fa5blevel0_row2\" class=\"row_heading level0 row2\" >20 - 24</th> \n",
       "        <td id=\"T_b0acce7a_56d5_11e8_899f_acbc32a6fa5brow2_col0\" class=\"data row2 col0\" >336</td> \n",
       "        <td id=\"T_b0acce7a_56d5_11e8_899f_acbc32a6fa5brow2_col1\" class=\"data row2 col1\" >$2.91</td> \n",
       "        <td id=\"T_b0acce7a_56d5_11e8_899f_acbc32a6fa5brow2_col2\" class=\"data row2 col2\" >$978.77</td> \n",
       "        <td id=\"T_b0acce7a_56d5_11e8_899f_acbc32a6fa5brow2_col3\" class=\"data row2 col3\" >259</td> \n",
       "        <td id=\"T_b0acce7a_56d5_11e8_899f_acbc32a6fa5brow2_col4\" class=\"data row2 col4\" >$3.78</td> \n",
       "    </tr>    <tr> \n",
       "        <th id=\"T_b0acce7a_56d5_11e8_899f_acbc32a6fa5blevel0_row3\" class=\"row_heading level0 row3\" >25 - 29</th> \n",
       "        <td id=\"T_b0acce7a_56d5_11e8_899f_acbc32a6fa5brow3_col0\" class=\"data row3 col0\" >125</td> \n",
       "        <td id=\"T_b0acce7a_56d5_11e8_899f_acbc32a6fa5brow3_col1\" class=\"data row3 col1\" >$2.96</td> \n",
       "        <td id=\"T_b0acce7a_56d5_11e8_899f_acbc32a6fa5brow3_col2\" class=\"data row3 col2\" >$370.33</td> \n",
       "        <td id=\"T_b0acce7a_56d5_11e8_899f_acbc32a6fa5brow3_col3\" class=\"data row3 col3\" >87</td> \n",
       "        <td id=\"T_b0acce7a_56d5_11e8_899f_acbc32a6fa5brow3_col4\" class=\"data row3 col4\" >$4.26</td> \n",
       "    </tr>    <tr> \n",
       "        <th id=\"T_b0acce7a_56d5_11e8_899f_acbc32a6fa5blevel0_row4\" class=\"row_heading level0 row4\" >30 - 34</th> \n",
       "        <td id=\"T_b0acce7a_56d5_11e8_899f_acbc32a6fa5brow4_col0\" class=\"data row4 col0\" >64</td> \n",
       "        <td id=\"T_b0acce7a_56d5_11e8_899f_acbc32a6fa5brow4_col1\" class=\"data row4 col1\" >$3.08</td> \n",
       "        <td id=\"T_b0acce7a_56d5_11e8_899f_acbc32a6fa5brow4_col2\" class=\"data row4 col2\" >$197.25</td> \n",
       "        <td id=\"T_b0acce7a_56d5_11e8_899f_acbc32a6fa5brow4_col3\" class=\"data row4 col3\" >47</td> \n",
       "        <td id=\"T_b0acce7a_56d5_11e8_899f_acbc32a6fa5brow4_col4\" class=\"data row4 col4\" >$4.20</td> \n",
       "    </tr>    <tr> \n",
       "        <th id=\"T_b0acce7a_56d5_11e8_899f_acbc32a6fa5blevel0_row5\" class=\"row_heading level0 row5\" >35 - 39</th> \n",
       "        <td id=\"T_b0acce7a_56d5_11e8_899f_acbc32a6fa5brow5_col0\" class=\"data row5 col0\" >42</td> \n",
       "        <td id=\"T_b0acce7a_56d5_11e8_899f_acbc32a6fa5brow5_col1\" class=\"data row5 col1\" >$2.84</td> \n",
       "        <td id=\"T_b0acce7a_56d5_11e8_899f_acbc32a6fa5brow5_col2\" class=\"data row5 col2\" >$119.40</td> \n",
       "        <td id=\"T_b0acce7a_56d5_11e8_899f_acbc32a6fa5brow5_col3\" class=\"data row5 col3\" >27</td> \n",
       "        <td id=\"T_b0acce7a_56d5_11e8_899f_acbc32a6fa5brow5_col4\" class=\"data row5 col4\" >$4.42</td> \n",
       "    </tr>    <tr> \n",
       "        <th id=\"T_b0acce7a_56d5_11e8_899f_acbc32a6fa5blevel0_row6\" class=\"row_heading level0 row6\" >< 10</th> \n",
       "        <td id=\"T_b0acce7a_56d5_11e8_899f_acbc32a6fa5brow6_col0\" class=\"data row6 col0\" >28</td> \n",
       "        <td id=\"T_b0acce7a_56d5_11e8_899f_acbc32a6fa5brow6_col1\" class=\"data row6 col1\" >$2.98</td> \n",
       "        <td id=\"T_b0acce7a_56d5_11e8_899f_acbc32a6fa5brow6_col2\" class=\"data row6 col2\" >$83.46</td> \n",
       "        <td id=\"T_b0acce7a_56d5_11e8_899f_acbc32a6fa5brow6_col3\" class=\"data row6 col3\" >19</td> \n",
       "        <td id=\"T_b0acce7a_56d5_11e8_899f_acbc32a6fa5brow6_col4\" class=\"data row6 col4\" >$4.39</td> \n",
       "    </tr>    <tr> \n",
       "        <th id=\"T_b0acce7a_56d5_11e8_899f_acbc32a6fa5blevel0_row7\" class=\"row_heading level0 row7\" >> 40</th> \n",
       "        <td id=\"T_b0acce7a_56d5_11e8_899f_acbc32a6fa5brow7_col0\" class=\"data row7 col0\" >17</td> \n",
       "        <td id=\"T_b0acce7a_56d5_11e8_899f_acbc32a6fa5brow7_col1\" class=\"data row7 col1\" >$3.16</td> \n",
       "        <td id=\"T_b0acce7a_56d5_11e8_899f_acbc32a6fa5brow7_col2\" class=\"data row7 col2\" >$53.75</td> \n",
       "        <td id=\"T_b0acce7a_56d5_11e8_899f_acbc32a6fa5brow7_col3\" class=\"data row7 col3\" >11</td> \n",
       "        <td id=\"T_b0acce7a_56d5_11e8_899f_acbc32a6fa5brow7_col4\" class=\"data row7 col4\" >$4.89</td> \n",
       "    </tr></tbody> \n",
       "</table> "
      ],
      "text/plain": [
       "<pandas.io.formats.style.Styler at 0x10f106f60>"
      ]
     },
     "execution_count": 35,
     "metadata": {},
     "output_type": "execute_result"
    }
   ],
   "source": [
    "#fix index and format\n",
    "merge_age.index.rename(\"Age\", inplace = True)\n",
    "merge_age.style.format({'Average Purchase Price': '${:.2f}', 'Total Purchase Value': '${:.2f}', 'Normalized Totals': '${:.2f}'})\n"
   ]
  },
  {
   "cell_type": "code",
   "execution_count": 36,
   "metadata": {},
   "outputs": [],
   "source": [
    "#top spenders\n",
    "#Identify the the top 5 spenders in the game by total purchase value, then list (in a table):"
   ]
  },
  {
   "cell_type": "code",
   "execution_count": 42,
   "metadata": {},
   "outputs": [],
   "source": [
    "#Group by sn to find, total purchase per person, number of purchases per person, and average price price per person\n",
    "purchase_amt_by_SN = pd.DataFrame(pur_df.groupby('SN')['Price'].sum())\n",
    "num_purchase_by_SN = pd.DataFrame(pur_df.groupby('SN')['Price'].count())\n",
    "avg_purchase_by_SN = pd.DataFrame(pur_df.groupby('SN')['Price'].mean())\n",
    "\n",
    "#merge df's\n",
    "merged_top5 = pd.merge(purchase_amt_by_SN, num_purchase_by_SN, left_index = True, right_index = True).merge(avg_purchase_by_SN, left_index=True, right_index=True)\n"
   ]
  },
  {
   "cell_type": "code",
   "execution_count": 43,
   "metadata": {},
   "outputs": [],
   "source": [
    "# rename columns\n",
    "merged_top5.rename(columns = {'Price_x': 'Total Purchase Value', 'Price_y':'Purchase Count', 'Price':'Average Purchase Price'}, inplace = True)\n"
   ]
  },
  {
   "cell_type": "code",
   "execution_count": 44,
   "metadata": {},
   "outputs": [],
   "source": [
    "#sort highest to lowest purchase value\n",
    "merged_top5.sort_values('Total Purchase Value', ascending = False, inplace=True)"
   ]
  },
  {
   "cell_type": "code",
   "execution_count": 45,
   "metadata": {},
   "outputs": [
    {
     "data": {
      "text/html": [
       "<style  type=\"text/css\" >\n",
       "</style>  \n",
       "<table id=\"T_f9d9e638_56d6_11e8_8546_acbc32a6fa5b\" > \n",
       "<thead>    <tr> \n",
       "        <th class=\"blank level0\" ></th> \n",
       "        <th class=\"col_heading level0 col0\" >Total Purchase Value</th> \n",
       "        <th class=\"col_heading level0 col1\" >Purchase Count</th> \n",
       "        <th class=\"col_heading level0 col2\" >Average Purchase Price</th> \n",
       "    </tr>    <tr> \n",
       "        <th class=\"index_name level0\" >SN</th> \n",
       "        <th class=\"blank\" ></th> \n",
       "        <th class=\"blank\" ></th> \n",
       "        <th class=\"blank\" ></th> \n",
       "    </tr></thead> \n",
       "<tbody>    <tr> \n",
       "        <th id=\"T_f9d9e638_56d6_11e8_8546_acbc32a6fa5blevel0_row0\" class=\"row_heading level0 row0\" >Undirrala66</th> \n",
       "        <td id=\"T_f9d9e638_56d6_11e8_8546_acbc32a6fa5brow0_col0\" class=\"data row0 col0\" >$17.06</td> \n",
       "        <td id=\"T_f9d9e638_56d6_11e8_8546_acbc32a6fa5brow0_col1\" class=\"data row0 col1\" >5</td> \n",
       "        <td id=\"T_f9d9e638_56d6_11e8_8546_acbc32a6fa5brow0_col2\" class=\"data row0 col2\" >$3.41</td> \n",
       "    </tr>    <tr> \n",
       "        <th id=\"T_f9d9e638_56d6_11e8_8546_acbc32a6fa5blevel0_row1\" class=\"row_heading level0 row1\" >Saedue76</th> \n",
       "        <td id=\"T_f9d9e638_56d6_11e8_8546_acbc32a6fa5brow1_col0\" class=\"data row1 col0\" >$13.56</td> \n",
       "        <td id=\"T_f9d9e638_56d6_11e8_8546_acbc32a6fa5brow1_col1\" class=\"data row1 col1\" >4</td> \n",
       "        <td id=\"T_f9d9e638_56d6_11e8_8546_acbc32a6fa5brow1_col2\" class=\"data row1 col2\" >$3.39</td> \n",
       "    </tr>    <tr> \n",
       "        <th id=\"T_f9d9e638_56d6_11e8_8546_acbc32a6fa5blevel0_row2\" class=\"row_heading level0 row2\" >Mindimnya67</th> \n",
       "        <td id=\"T_f9d9e638_56d6_11e8_8546_acbc32a6fa5brow2_col0\" class=\"data row2 col0\" >$12.74</td> \n",
       "        <td id=\"T_f9d9e638_56d6_11e8_8546_acbc32a6fa5brow2_col1\" class=\"data row2 col1\" >4</td> \n",
       "        <td id=\"T_f9d9e638_56d6_11e8_8546_acbc32a6fa5brow2_col2\" class=\"data row2 col2\" >$3.18</td> \n",
       "    </tr>    <tr> \n",
       "        <th id=\"T_f9d9e638_56d6_11e8_8546_acbc32a6fa5blevel0_row3\" class=\"row_heading level0 row3\" >Haellysu29</th> \n",
       "        <td id=\"T_f9d9e638_56d6_11e8_8546_acbc32a6fa5brow3_col0\" class=\"data row3 col0\" >$12.73</td> \n",
       "        <td id=\"T_f9d9e638_56d6_11e8_8546_acbc32a6fa5brow3_col1\" class=\"data row3 col1\" >3</td> \n",
       "        <td id=\"T_f9d9e638_56d6_11e8_8546_acbc32a6fa5brow3_col2\" class=\"data row3 col2\" >$4.24</td> \n",
       "    </tr>    <tr> \n",
       "        <th id=\"T_f9d9e638_56d6_11e8_8546_acbc32a6fa5blevel0_row4\" class=\"row_heading level0 row4\" >Eoda93</th> \n",
       "        <td id=\"T_f9d9e638_56d6_11e8_8546_acbc32a6fa5brow4_col0\" class=\"data row4 col0\" >$11.58</td> \n",
       "        <td id=\"T_f9d9e638_56d6_11e8_8546_acbc32a6fa5brow4_col1\" class=\"data row4 col1\" >3</td> \n",
       "        <td id=\"T_f9d9e638_56d6_11e8_8546_acbc32a6fa5brow4_col2\" class=\"data row4 col2\" >$3.86</td> \n",
       "    </tr></tbody> \n",
       "</table> "
      ],
      "text/plain": [
       "<pandas.io.formats.style.Styler at 0x10f1065f8>"
      ]
     },
     "execution_count": 45,
     "metadata": {},
     "output_type": "execute_result"
    }
   ],
   "source": [
    "#fix formatting\n",
    "merged_top5 = merged_top5.head()\n",
    "merged_top5.style.format({'Total Purchase Value': '${:.2f}', 'Average Purchase Price': '${:.2f}'})"
   ]
  },
  {
   "cell_type": "code",
   "execution_count": 46,
   "metadata": {},
   "outputs": [],
   "source": [
    "#Most Popular Items\n",
    "#Identify the 5 most popular items by purchase count, then list (in a table)"
   ]
  },
  {
   "cell_type": "code",
   "execution_count": 47,
   "metadata": {},
   "outputs": [],
   "source": [
    "# get a count of each item by grouping by Item ID and number of occurances\n",
    "top5_items_ID = pd.DataFrame(pur_df.groupby('Item ID')['Item ID'].count())\n"
   ]
  },
  {
   "cell_type": "code",
   "execution_count": 49,
   "metadata": {},
   "outputs": [],
   "source": [
    "#sort from high to low total purchase count\n",
    "top5_items_ID.sort_values('Item ID', ascending = False, inplace = True)"
   ]
  },
  {
   "cell_type": "code",
   "execution_count": 53,
   "metadata": {},
   "outputs": [],
   "source": [
    "#keep the first 5 rows\n",
    "top5_items_ID = top5_items_ID.iloc[0:5][:]\n",
    "#top5_items_ID"
   ]
  },
  {
   "cell_type": "code",
   "execution_count": 55,
   "metadata": {},
   "outputs": [],
   "source": [
    "#total purchase value of each item\n",
    "top5_items_total = pd.DataFrame(pur_df.groupby('Item ID')['Price'].sum())\n",
    "#top5_items_ID"
   ]
  },
  {
   "cell_type": "code",
   "execution_count": 88,
   "metadata": {},
   "outputs": [],
   "source": [
    "#merge purcahse count with total purcahse value and drop dups\n",
    "top5_items = pd.merge(top5_items_ID, top5_items_total, left_index = True, right_index = True)\n",
    "no_dup_items = pur_df.drop_duplicates(['Item ID'], keep = 'last')\n",
    "#top5_items"
   ]
  },
  {
   "cell_type": "code",
   "execution_count": 94,
   "metadata": {},
   "outputs": [
    {
     "data": {
      "text/html": [
       "<style  type=\"text/css\" >\n",
       "</style>  \n",
       "<table id=\"T_272d2d52_56dc_11e8_893b_acbc32a6fa5b\" > \n",
       "<thead>    <tr> \n",
       "        <th class=\"blank level0\" ></th> \n",
       "        <th class=\"col_heading level0 col0\" >Purchase Count</th> \n",
       "        <th class=\"col_heading level0 col1\" >Total Purchase Value</th> \n",
       "        <th class=\"col_heading level0 col2\" >Age</th> \n",
       "        <th class=\"col_heading level0 col3\" >Gender</th> \n",
       "        <th class=\"col_heading level0 col4\" >Item ID_y</th> \n",
       "        <th class=\"col_heading level0 col5\" >Item Name</th> \n",
       "        <th class=\"col_heading level0 col6\" >Item Price</th> \n",
       "        <th class=\"col_heading level0 col7\" >SN</th> \n",
       "        <th class=\"col_heading level0 col8\" >age_bin</th> \n",
       "    </tr>    <tr> \n",
       "        <th class=\"index_name level0\" >Item ID</th> \n",
       "        <th class=\"blank\" ></th> \n",
       "        <th class=\"blank\" ></th> \n",
       "        <th class=\"blank\" ></th> \n",
       "        <th class=\"blank\" ></th> \n",
       "        <th class=\"blank\" ></th> \n",
       "        <th class=\"blank\" ></th> \n",
       "        <th class=\"blank\" ></th> \n",
       "        <th class=\"blank\" ></th> \n",
       "        <th class=\"blank\" ></th> \n",
       "    </tr></thead> \n",
       "<tbody>    <tr> \n",
       "        <th id=\"T_272d2d52_56dc_11e8_893b_acbc32a6fa5blevel0_row0\" class=\"row_heading level0 row0\" >39</th> \n",
       "        <td id=\"T_272d2d52_56dc_11e8_893b_acbc32a6fa5brow0_col0\" class=\"data row0 col0\" >11</td> \n",
       "        <td id=\"T_272d2d52_56dc_11e8_893b_acbc32a6fa5brow0_col1\" class=\"data row0 col1\" >$25.85</td> \n",
       "        <td id=\"T_272d2d52_56dc_11e8_893b_acbc32a6fa5brow0_col2\" class=\"data row0 col2\" >26</td> \n",
       "        <td id=\"T_272d2d52_56dc_11e8_893b_acbc32a6fa5brow0_col3\" class=\"data row0 col3\" >Male</td> \n",
       "        <td id=\"T_272d2d52_56dc_11e8_893b_acbc32a6fa5brow0_col4\" class=\"data row0 col4\" >39</td> \n",
       "        <td id=\"T_272d2d52_56dc_11e8_893b_acbc32a6fa5brow0_col5\" class=\"data row0 col5\" >Betrayal, Whisper of Grieving Widows</td> \n",
       "        <td id=\"T_272d2d52_56dc_11e8_893b_acbc32a6fa5brow0_col6\" class=\"data row0 col6\" >$2.35</td> \n",
       "        <td id=\"T_272d2d52_56dc_11e8_893b_acbc32a6fa5brow0_col7\" class=\"data row0 col7\" >Aeduera68</td> \n",
       "        <td id=\"T_272d2d52_56dc_11e8_893b_acbc32a6fa5brow0_col8\" class=\"data row0 col8\" >25 - 29</td> \n",
       "    </tr>    <tr> \n",
       "        <th id=\"T_272d2d52_56dc_11e8_893b_acbc32a6fa5blevel0_row1\" class=\"row_heading level0 row1\" >84</th> \n",
       "        <td id=\"T_272d2d52_56dc_11e8_893b_acbc32a6fa5brow1_col0\" class=\"data row1 col0\" >11</td> \n",
       "        <td id=\"T_272d2d52_56dc_11e8_893b_acbc32a6fa5brow1_col1\" class=\"data row1 col1\" >$24.53</td> \n",
       "        <td id=\"T_272d2d52_56dc_11e8_893b_acbc32a6fa5brow1_col2\" class=\"data row1 col2\" >22</td> \n",
       "        <td id=\"T_272d2d52_56dc_11e8_893b_acbc32a6fa5brow1_col3\" class=\"data row1 col3\" >Female</td> \n",
       "        <td id=\"T_272d2d52_56dc_11e8_893b_acbc32a6fa5brow1_col4\" class=\"data row1 col4\" >84</td> \n",
       "        <td id=\"T_272d2d52_56dc_11e8_893b_acbc32a6fa5brow1_col5\" class=\"data row1 col5\" >Arcane Gem</td> \n",
       "        <td id=\"T_272d2d52_56dc_11e8_893b_acbc32a6fa5brow1_col6\" class=\"data row1 col6\" >$2.23</td> \n",
       "        <td id=\"T_272d2d52_56dc_11e8_893b_acbc32a6fa5brow1_col7\" class=\"data row1 col7\" >Nitherian58</td> \n",
       "        <td id=\"T_272d2d52_56dc_11e8_893b_acbc32a6fa5brow1_col8\" class=\"data row1 col8\" >20 - 24</td> \n",
       "    </tr>    <tr> \n",
       "        <th id=\"T_272d2d52_56dc_11e8_893b_acbc32a6fa5blevel0_row2\" class=\"row_heading level0 row2\" >31</th> \n",
       "        <td id=\"T_272d2d52_56dc_11e8_893b_acbc32a6fa5brow2_col0\" class=\"data row2 col0\" >9</td> \n",
       "        <td id=\"T_272d2d52_56dc_11e8_893b_acbc32a6fa5brow2_col1\" class=\"data row2 col1\" >$18.63</td> \n",
       "        <td id=\"T_272d2d52_56dc_11e8_893b_acbc32a6fa5brow2_col2\" class=\"data row2 col2\" >15</td> \n",
       "        <td id=\"T_272d2d52_56dc_11e8_893b_acbc32a6fa5brow2_col3\" class=\"data row2 col3\" >Male</td> \n",
       "        <td id=\"T_272d2d52_56dc_11e8_893b_acbc32a6fa5brow2_col4\" class=\"data row2 col4\" >31</td> \n",
       "        <td id=\"T_272d2d52_56dc_11e8_893b_acbc32a6fa5brow2_col5\" class=\"data row2 col5\" >Trickster</td> \n",
       "        <td id=\"T_272d2d52_56dc_11e8_893b_acbc32a6fa5brow2_col6\" class=\"data row2 col6\" >$2.07</td> \n",
       "        <td id=\"T_272d2d52_56dc_11e8_893b_acbc32a6fa5brow2_col7\" class=\"data row2 col7\" >Sidap51</td> \n",
       "        <td id=\"T_272d2d52_56dc_11e8_893b_acbc32a6fa5brow2_col8\" class=\"data row2 col8\" >15 - 19</td> \n",
       "    </tr>    <tr> \n",
       "        <th id=\"T_272d2d52_56dc_11e8_893b_acbc32a6fa5blevel0_row3\" class=\"row_heading level0 row3\" >175</th> \n",
       "        <td id=\"T_272d2d52_56dc_11e8_893b_acbc32a6fa5brow3_col0\" class=\"data row3 col0\" >9</td> \n",
       "        <td id=\"T_272d2d52_56dc_11e8_893b_acbc32a6fa5brow3_col1\" class=\"data row3 col1\" >$11.16</td> \n",
       "        <td id=\"T_272d2d52_56dc_11e8_893b_acbc32a6fa5brow3_col2\" class=\"data row3 col2\" >28</td> \n",
       "        <td id=\"T_272d2d52_56dc_11e8_893b_acbc32a6fa5brow3_col3\" class=\"data row3 col3\" >Male</td> \n",
       "        <td id=\"T_272d2d52_56dc_11e8_893b_acbc32a6fa5brow3_col4\" class=\"data row3 col4\" >175</td> \n",
       "        <td id=\"T_272d2d52_56dc_11e8_893b_acbc32a6fa5brow3_col5\" class=\"data row3 col5\" >Woeful Adamantite Claymore</td> \n",
       "        <td id=\"T_272d2d52_56dc_11e8_893b_acbc32a6fa5brow3_col6\" class=\"data row3 col6\" >$1.24</td> \n",
       "        <td id=\"T_272d2d52_56dc_11e8_893b_acbc32a6fa5brow3_col7\" class=\"data row3 col7\" >Raeduerin33</td> \n",
       "        <td id=\"T_272d2d52_56dc_11e8_893b_acbc32a6fa5brow3_col8\" class=\"data row3 col8\" >25 - 29</td> \n",
       "    </tr>    <tr> \n",
       "        <th id=\"T_272d2d52_56dc_11e8_893b_acbc32a6fa5blevel0_row4\" class=\"row_heading level0 row4\" >13</th> \n",
       "        <td id=\"T_272d2d52_56dc_11e8_893b_acbc32a6fa5brow4_col0\" class=\"data row4 col0\" >9</td> \n",
       "        <td id=\"T_272d2d52_56dc_11e8_893b_acbc32a6fa5brow4_col1\" class=\"data row4 col1\" >$13.41</td> \n",
       "        <td id=\"T_272d2d52_56dc_11e8_893b_acbc32a6fa5brow4_col2\" class=\"data row4 col2\" >15</td> \n",
       "        <td id=\"T_272d2d52_56dc_11e8_893b_acbc32a6fa5brow4_col3\" class=\"data row4 col3\" >Male</td> \n",
       "        <td id=\"T_272d2d52_56dc_11e8_893b_acbc32a6fa5brow4_col4\" class=\"data row4 col4\" >13</td> \n",
       "        <td id=\"T_272d2d52_56dc_11e8_893b_acbc32a6fa5brow4_col5\" class=\"data row4 col5\" >Serenity</td> \n",
       "        <td id=\"T_272d2d52_56dc_11e8_893b_acbc32a6fa5brow4_col6\" class=\"data row4 col6\" >$1.49</td> \n",
       "        <td id=\"T_272d2d52_56dc_11e8_893b_acbc32a6fa5brow4_col7\" class=\"data row4 col7\" >Aerithnucal56</td> \n",
       "        <td id=\"T_272d2d52_56dc_11e8_893b_acbc32a6fa5brow4_col8\" class=\"data row4 col8\" >15 - 19</td> \n",
       "    </tr></tbody> \n",
       "</table> "
      ],
      "text/plain": [
       "<pandas.io.formats.style.Styler at 0x1157f4550>"
      ]
     },
     "execution_count": 94,
     "metadata": {},
     "output_type": "execute_result"
    }
   ],
   "source": [
    "# merge to get all other info from the top 5 using the no dup df\n",
    "top5_merge_ID = pd.merge(top5_items, no_dup_items, left_index = True, right_on = 'Item ID')\n",
    "top5_items_ID = top5_merge_ID[['Item ID', 'Item Name', 'Item ID_x', 'Price_y', 'Price_x']]\n",
    "top5_merge_ID.set_index(['Item ID'], inplace = True)\n",
    "top5_merge_ID.rename(columns =  {'Item ID_x': 'Purchase Count', 'Price_y': 'Item Price', 'Price_x': 'Total Purchase Value'}, inplace=True)\n",
    "top5_merge_ID.style.format({'Item Price': '${:.2f}', 'Total Purchase Value': '${:.2f}'})"
   ]
  },
  {
   "cell_type": "code",
   "execution_count": 78,
   "metadata": {},
   "outputs": [],
   "source": [
    "#Most Profitable Items - Identify the 5 most profitable items by total purchase value, then list (in a table)"
   ]
  },
  {
   "cell_type": "code",
   "execution_count": 100,
   "metadata": {},
   "outputs": [
    {
     "data": {
      "text/html": [
       "<style  type=\"text/css\" >\n",
       "</style>  \n",
       "<table id=\"T_7345a4a2_56dd_11e8_a2fe_acbc32a6fa5b\" > \n",
       "<thead>    <tr> \n",
       "        <th class=\"blank level0\" ></th> \n",
       "        <th class=\"col_heading level0 col0\" >Item Name</th> \n",
       "        <th class=\"col_heading level0 col1\" >Purchase Count</th> \n",
       "        <th class=\"col_heading level0 col2\" >Item Price</th> \n",
       "        <th class=\"col_heading level0 col3\" >Total Purchase Value</th> \n",
       "    </tr>    <tr> \n",
       "        <th class=\"index_name level0\" >Item ID</th> \n",
       "        <th class=\"blank\" ></th> \n",
       "        <th class=\"blank\" ></th> \n",
       "        <th class=\"blank\" ></th> \n",
       "        <th class=\"blank\" ></th> \n",
       "    </tr></thead> \n",
       "<tbody>    <tr> \n",
       "        <th id=\"T_7345a4a2_56dd_11e8_a2fe_acbc32a6fa5blevel0_row0\" class=\"row_heading level0 row0\" >34</th> \n",
       "        <td id=\"T_7345a4a2_56dd_11e8_a2fe_acbc32a6fa5brow0_col0\" class=\"data row0 col0\" >Retribution Axe</td> \n",
       "        <td id=\"T_7345a4a2_56dd_11e8_a2fe_acbc32a6fa5brow0_col1\" class=\"data row0 col1\" >9</td> \n",
       "        <td id=\"T_7345a4a2_56dd_11e8_a2fe_acbc32a6fa5brow0_col2\" class=\"data row0 col2\" >$4.14</td> \n",
       "        <td id=\"T_7345a4a2_56dd_11e8_a2fe_acbc32a6fa5brow0_col3\" class=\"data row0 col3\" >$37.26</td> \n",
       "    </tr>    <tr> \n",
       "        <th id=\"T_7345a4a2_56dd_11e8_a2fe_acbc32a6fa5blevel0_row1\" class=\"row_heading level0 row1\" >115</th> \n",
       "        <td id=\"T_7345a4a2_56dd_11e8_a2fe_acbc32a6fa5brow1_col0\" class=\"data row1 col0\" >Spectral Diamond Doomblade</td> \n",
       "        <td id=\"T_7345a4a2_56dd_11e8_a2fe_acbc32a6fa5brow1_col1\" class=\"data row1 col1\" >7</td> \n",
       "        <td id=\"T_7345a4a2_56dd_11e8_a2fe_acbc32a6fa5brow1_col2\" class=\"data row1 col2\" >$4.25</td> \n",
       "        <td id=\"T_7345a4a2_56dd_11e8_a2fe_acbc32a6fa5brow1_col3\" class=\"data row1 col3\" >$29.75</td> \n",
       "    </tr>    <tr> \n",
       "        <th id=\"T_7345a4a2_56dd_11e8_a2fe_acbc32a6fa5blevel0_row2\" class=\"row_heading level0 row2\" >32</th> \n",
       "        <td id=\"T_7345a4a2_56dd_11e8_a2fe_acbc32a6fa5brow2_col0\" class=\"data row2 col0\" >Orenmir</td> \n",
       "        <td id=\"T_7345a4a2_56dd_11e8_a2fe_acbc32a6fa5brow2_col1\" class=\"data row2 col1\" >6</td> \n",
       "        <td id=\"T_7345a4a2_56dd_11e8_a2fe_acbc32a6fa5brow2_col2\" class=\"data row2 col2\" >$4.95</td> \n",
       "        <td id=\"T_7345a4a2_56dd_11e8_a2fe_acbc32a6fa5brow2_col3\" class=\"data row2 col3\" >$29.70</td> \n",
       "    </tr>    <tr> \n",
       "        <th id=\"T_7345a4a2_56dd_11e8_a2fe_acbc32a6fa5blevel0_row3\" class=\"row_heading level0 row3\" >103</th> \n",
       "        <td id=\"T_7345a4a2_56dd_11e8_a2fe_acbc32a6fa5brow3_col0\" class=\"data row3 col0\" >Singed Scalpel</td> \n",
       "        <td id=\"T_7345a4a2_56dd_11e8_a2fe_acbc32a6fa5brow3_col1\" class=\"data row3 col1\" >6</td> \n",
       "        <td id=\"T_7345a4a2_56dd_11e8_a2fe_acbc32a6fa5brow3_col2\" class=\"data row3 col2\" >$4.87</td> \n",
       "        <td id=\"T_7345a4a2_56dd_11e8_a2fe_acbc32a6fa5brow3_col3\" class=\"data row3 col3\" >$29.22</td> \n",
       "    </tr>    <tr> \n",
       "        <th id=\"T_7345a4a2_56dd_11e8_a2fe_acbc32a6fa5blevel0_row4\" class=\"row_heading level0 row4\" >107</th> \n",
       "        <td id=\"T_7345a4a2_56dd_11e8_a2fe_acbc32a6fa5brow4_col0\" class=\"data row4 col0\" >Splitter, Foe Of Subtlety</td> \n",
       "        <td id=\"T_7345a4a2_56dd_11e8_a2fe_acbc32a6fa5brow4_col1\" class=\"data row4 col1\" >8</td> \n",
       "        <td id=\"T_7345a4a2_56dd_11e8_a2fe_acbc32a6fa5brow4_col2\" class=\"data row4 col2\" >$3.61</td> \n",
       "        <td id=\"T_7345a4a2_56dd_11e8_a2fe_acbc32a6fa5brow4_col3\" class=\"data row4 col3\" >$28.88</td> \n",
       "    </tr></tbody> \n",
       "</table> "
      ],
      "text/plain": [
       "<pandas.io.formats.style.Styler at 0x1157c3c18>"
      ]
     },
     "execution_count": 100,
     "metadata": {},
     "output_type": "execute_result"
    }
   ],
   "source": [
    "top_5_profit = pd.DataFrame(pur_df.groupby('Item ID')['Price'].sum())\n",
    "top_5_profit.sort_values('Price', ascending = False, inplace = True)\n",
    "top_5_profit = top_5_profit.iloc[0:5][:]\n",
    "pur_count_profit = pd.DataFrame(pur_df.groupby('Item ID')['Item ID'].count())\n",
    "\n",
    "top_5_profit = pd.merge(top_5_profit, pur_count_profit, left_index = True, right_index = True, how = 'left')\n",
    "top_5_merge_profit = pd.merge(top_5_profit, no_dup_items, left_index = True, right_on = 'Item ID', how = 'left')\n",
    "top_5_merge_profit = top_5_merge_profit[['Item ID', 'Item Name', 'Item ID_x', 'Price_y','Price_x']]\n",
    "top_5_merge_profit.set_index(['Item ID'], inplace=True)\n",
    "top_5_merge_profit.rename(columns = {'Item ID_x': 'Purchase Count', 'Price_y': 'Item Price', 'Price_x': 'Total Purchase Value'}, inplace = True)\n",
    "top_5_merge_profit.style.format({'Item Price': '${:.2f}', 'Total Purchase Value': '${:.2f}'})"
   ]
  },
  {
   "cell_type": "code",
   "execution_count": null,
   "metadata": {},
   "outputs": [],
   "source": []
  }
 ],
 "metadata": {
  "kernelspec": {
   "display_name": "Python 3",
   "language": "python",
   "name": "python3"
  },
  "language_info": {
   "codemirror_mode": {
    "name": "ipython",
    "version": 3
   },
   "file_extension": ".py",
   "mimetype": "text/x-python",
   "name": "python",
   "nbconvert_exporter": "python",
   "pygments_lexer": "ipython3",
   "version": "3.6.4"
  }
 },
 "nbformat": 4,
 "nbformat_minor": 2
}
