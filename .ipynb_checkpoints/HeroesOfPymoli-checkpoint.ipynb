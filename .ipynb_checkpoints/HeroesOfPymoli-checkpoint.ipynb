{
 "cells": [
  {
   "cell_type": "code",
   "execution_count": 4,
   "metadata": {},
   "outputs": [],
   "source": [
    "#dependencies\n",
    "import os\n",
    "import pandas as pd\n",
    "import numpy as np"
   ]
  },
  {
   "cell_type": "code",
   "execution_count": 7,
   "metadata": {},
   "outputs": [
    {
     "data": {
      "text/html": [
       "<div>\n",
       "<style scoped>\n",
       "    .dataframe tbody tr th:only-of-type {\n",
       "        vertical-align: middle;\n",
       "    }\n",
       "\n",
       "    .dataframe tbody tr th {\n",
       "        vertical-align: top;\n",
       "    }\n",
       "\n",
       "    .dataframe thead th {\n",
       "        text-align: right;\n",
       "    }\n",
       "</style>\n",
       "<table border=\"1\" class=\"dataframe\">\n",
       "  <thead>\n",
       "    <tr style=\"text-align: right;\">\n",
       "      <th></th>\n",
       "      <th>Age</th>\n",
       "      <th>Gender</th>\n",
       "      <th>Item ID</th>\n",
       "      <th>Item Name</th>\n",
       "      <th>Price</th>\n",
       "      <th>SN</th>\n",
       "    </tr>\n",
       "  </thead>\n",
       "  <tbody>\n",
       "    <tr>\n",
       "      <th>0</th>\n",
       "      <td>38</td>\n",
       "      <td>Male</td>\n",
       "      <td>165</td>\n",
       "      <td>Bone Crushing Silver Skewer</td>\n",
       "      <td>3.37</td>\n",
       "      <td>Aelalis34</td>\n",
       "    </tr>\n",
       "    <tr>\n",
       "      <th>1</th>\n",
       "      <td>21</td>\n",
       "      <td>Male</td>\n",
       "      <td>119</td>\n",
       "      <td>Stormbringer, Dark Blade of Ending Misery</td>\n",
       "      <td>2.32</td>\n",
       "      <td>Eolo46</td>\n",
       "    </tr>\n",
       "    <tr>\n",
       "      <th>2</th>\n",
       "      <td>34</td>\n",
       "      <td>Male</td>\n",
       "      <td>174</td>\n",
       "      <td>Primitive Blade</td>\n",
       "      <td>2.46</td>\n",
       "      <td>Assastnya25</td>\n",
       "    </tr>\n",
       "    <tr>\n",
       "      <th>3</th>\n",
       "      <td>21</td>\n",
       "      <td>Male</td>\n",
       "      <td>92</td>\n",
       "      <td>Final Critic</td>\n",
       "      <td>1.36</td>\n",
       "      <td>Pheusrical25</td>\n",
       "    </tr>\n",
       "    <tr>\n",
       "      <th>4</th>\n",
       "      <td>23</td>\n",
       "      <td>Male</td>\n",
       "      <td>63</td>\n",
       "      <td>Stormfury Mace</td>\n",
       "      <td>1.27</td>\n",
       "      <td>Aela59</td>\n",
       "    </tr>\n",
       "  </tbody>\n",
       "</table>\n",
       "</div>"
      ],
      "text/plain": [
       "   Age Gender  Item ID                                  Item Name  Price  \\\n",
       "0   38   Male      165                Bone Crushing Silver Skewer   3.37   \n",
       "1   21   Male      119  Stormbringer, Dark Blade of Ending Misery   2.32   \n",
       "2   34   Male      174                            Primitive Blade   2.46   \n",
       "3   21   Male       92                               Final Critic   1.36   \n",
       "4   23   Male       63                             Stormfury Mace   1.27   \n",
       "\n",
       "             SN  \n",
       "0     Aelalis34  \n",
       "1        Eolo46  \n",
       "2   Assastnya25  \n",
       "3  Pheusrical25  \n",
       "4        Aela59  "
      ]
     },
     "execution_count": 7,
     "metadata": {},
     "output_type": "execute_result"
    }
   ],
   "source": [
    "#load in data\n",
    "file = os.path.join('purchase_data.json')\n",
    "pur_df = pd.read_json(file)\n",
    "pur_df.head()"
   ]
  },
  {
   "cell_type": "code",
   "execution_count": 8,
   "metadata": {},
   "outputs": [
    {
     "data": {
      "text/html": [
       "<div>\n",
       "<style scoped>\n",
       "    .dataframe tbody tr th:only-of-type {\n",
       "        vertical-align: middle;\n",
       "    }\n",
       "\n",
       "    .dataframe tbody tr th {\n",
       "        vertical-align: top;\n",
       "    }\n",
       "\n",
       "    .dataframe thead th {\n",
       "        text-align: right;\n",
       "    }\n",
       "</style>\n",
       "<table border=\"1\" class=\"dataframe\">\n",
       "  <thead>\n",
       "    <tr style=\"text-align: right;\">\n",
       "      <th></th>\n",
       "    </tr>\n",
       "    <tr>\n",
       "      <th>Total Players</th>\n",
       "    </tr>\n",
       "  </thead>\n",
       "  <tbody>\n",
       "    <tr>\n",
       "      <th>573</th>\n",
       "    </tr>\n",
       "  </tbody>\n",
       "</table>\n",
       "</div>"
      ],
      "text/plain": [
       "Empty DataFrame\n",
       "Columns: []\n",
       "Index: [573]"
      ]
     },
     "execution_count": 8,
     "metadata": {},
     "output_type": "execute_result"
    }
   ],
   "source": [
    "#show total number of players only\n",
    "total_players = len(pur_df['SN'].unique())\n",
    "total_players_df = pd.DataFrame([{'Total Players': total_players}])\n",
    "total_players_df.set_index('Total Players', inplace = True)\n",
    "total_players_df"
   ]
  },
  {
   "cell_type": "code",
   "execution_count": 9,
   "metadata": {},
   "outputs": [
    {
     "name": "stdout",
     "output_type": "stream",
     "text": [
      "   Average Purchase Price  Number of Unique Items  \\\n",
      "0                    2.93                     183   \n",
      "\n",
      "                                     Total Purchases  Total Revenue  \n",
      "0  <bound method Series.count of 0      3.37\\n1  ...        2286.33  \n"
     ]
    }
   ],
   "source": [
    "#purcahse analysis (total)\n",
    "\n",
    "#number of unique items\n",
    "no_multiples = pur_df.drop_duplicates(['Item ID'], keep = 'last')\n",
    "total_unique = len(no_multiples)\n",
    "\n",
    "#total number of purchases\n",
    "total_pur = pur_df['Price'].count\n",
    "\n",
    "#total revenue\n",
    "total_rev = round(pur_df['Price'].sum(),2)\n",
    "\n",
    "#average purchase price (total revenue/total purchases)\n",
    "avg_price = round(total_rev/total_pur(), 2)\n",
    "\n",
    "\n",
    "#create data frame\n",
    "pur_analysis = pd.DataFrame([{\n",
    "    \n",
    "    \"Number of Unique Items\": total_unique,\n",
    "    'Average Purchase Price': avg_price,\n",
    "    'Total Purchases': total_pur,\n",
    "    'Total Revenue': total_rev}])\n",
    "\n",
    "#check data frame\n",
    "print(pur_analysis)"
   ]
  },
  {
   "cell_type": "code",
   "execution_count": 10,
   "metadata": {},
   "outputs": [
    {
     "data": {
      "text/html": [
       "<style  type=\"text/css\" >\n",
       "</style>  \n",
       "<table id=\"T_7fd1e618_5680_11e8_a9bb_acbc32a6fa5b\" > \n",
       "<thead>    <tr> \n",
       "        <th class=\"blank level0\" ></th> \n",
       "        <th class=\"col_heading level0 col0\" >Average Purchase Price</th> \n",
       "        <th class=\"col_heading level0 col1\" >Number of Unique Items</th> \n",
       "        <th class=\"col_heading level0 col2\" >Total Purchases</th> \n",
       "        <th class=\"col_heading level0 col3\" >Total Revenue</th> \n",
       "    </tr></thead> \n",
       "<tbody>    <tr> \n",
       "        <th id=\"T_7fd1e618_5680_11e8_a9bb_acbc32a6fa5blevel0_row0\" class=\"row_heading level0 row0\" >0</th> \n",
       "        <td id=\"T_7fd1e618_5680_11e8_a9bb_acbc32a6fa5brow0_col0\" class=\"data row0 col0\" >$2.93</td> \n",
       "        <td id=\"T_7fd1e618_5680_11e8_a9bb_acbc32a6fa5brow0_col1\" class=\"data row0 col1\" >183</td> \n",
       "        <td id=\"T_7fd1e618_5680_11e8_a9bb_acbc32a6fa5brow0_col2\" class=\"data row0 col2\" ><bound method Series.count of 0      3.37\n",
       "1      2.32\n",
       "2      2.46\n",
       "3      1.36\n",
       "4      1.27\n",
       "5      1.73\n",
       "6      4.57\n",
       "7      3.32\n",
       "8      2.77\n",
       "9      4.53\n",
       "10     3.81\n",
       "11     1.55\n",
       "12     4.06\n",
       "13     3.68\n",
       "14     2.46\n",
       "15     4.77\n",
       "16     1.14\n",
       "17     1.65\n",
       "18     3.71\n",
       "19     4.89\n",
       "20     2.33\n",
       "21     1.79\n",
       "22     2.52\n",
       "23     2.36\n",
       "24     1.96\n",
       "25     1.27\n",
       "26     3.90\n",
       "27     2.29\n",
       "28     4.23\n",
       "29     2.46\n",
       "       ... \n",
       "750    1.28\n",
       "751    1.88\n",
       "752    2.37\n",
       "753    2.28\n",
       "754    1.36\n",
       "755    1.88\n",
       "756    1.20\n",
       "757    2.52\n",
       "758    1.21\n",
       "759    2.20\n",
       "760    4.06\n",
       "761    1.24\n",
       "762    4.39\n",
       "763    4.32\n",
       "764    3.89\n",
       "765    1.49\n",
       "766    2.23\n",
       "767    1.21\n",
       "768    3.56\n",
       "769    3.74\n",
       "770    3.27\n",
       "771    1.03\n",
       "772    2.07\n",
       "773    2.46\n",
       "774    1.14\n",
       "775    3.62\n",
       "776    1.36\n",
       "777    4.15\n",
       "778    1.72\n",
       "779    3.61\n",
       "Name: Price, Length: 780, dtype: float64></td> \n",
       "        <td id=\"T_7fd1e618_5680_11e8_a9bb_acbc32a6fa5brow0_col3\" class=\"data row0 col3\" >$2,286.33</td> \n",
       "    </tr></tbody> \n",
       "</table> "
      ],
      "text/plain": [
       "<pandas.io.formats.style.Styler at 0x106376e48>"
      ]
     },
     "execution_count": 10,
     "metadata": {},
     "output_type": "execute_result"
    }
   ],
   "source": [
    "#format purchase analysis (total) data\n",
    "pur_analysis.style.format({'Average Purchase Price': '${:.2f}', 'Total Revenue': '${:,.2f}'})"
   ]
  },
  {
   "cell_type": "code",
   "execution_count": null,
   "metadata": {},
   "outputs": [],
   "source": [
    "#Gender Demographics"
   ]
  },
  {
   "cell_type": "code",
   "execution_count": 20,
   "metadata": {},
   "outputs": [
    {
     "data": {
      "text/html": [
       "<style  type=\"text/css\" >\n",
       "</style>  \n",
       "<table id=\"T_c506c746_5681_11e8_a3b0_acbc32a6fa5b\" > \n",
       "<thead>    <tr> \n",
       "        <th class=\"blank level0\" ></th> \n",
       "        <th class=\"col_heading level0 col0\" ># of Players</th> \n",
       "        <th class=\"col_heading level0 col1\" >% of Players</th> \n",
       "    </tr>    <tr> \n",
       "        <th class=\"index_name level0\" >Gender</th> \n",
       "        <th class=\"blank\" ></th> \n",
       "        <th class=\"blank\" ></th> \n",
       "    </tr></thead> \n",
       "<tbody>    <tr> \n",
       "        <th id=\"T_c506c746_5681_11e8_a3b0_acbc32a6fa5blevel0_row0\" class=\"row_heading level0 row0\" >Male</th> \n",
       "        <td id=\"T_c506c746_5681_11e8_a3b0_acbc32a6fa5brow0_col0\" class=\"data row0 col0\" >465</td> \n",
       "        <td id=\"T_c506c746_5681_11e8_a3b0_acbc32a6fa5brow0_col1\" class=\"data row0 col1\" >81.2%</td> \n",
       "    </tr>    <tr> \n",
       "        <th id=\"T_c506c746_5681_11e8_a3b0_acbc32a6fa5blevel0_row1\" class=\"row_heading level0 row1\" >Female</th> \n",
       "        <td id=\"T_c506c746_5681_11e8_a3b0_acbc32a6fa5brow1_col0\" class=\"data row1 col0\" >100</td> \n",
       "        <td id=\"T_c506c746_5681_11e8_a3b0_acbc32a6fa5brow1_col1\" class=\"data row1 col1\" >17.5%</td> \n",
       "    </tr>    <tr> \n",
       "        <th id=\"T_c506c746_5681_11e8_a3b0_acbc32a6fa5blevel0_row2\" class=\"row_heading level0 row2\" >Other / Non-Disclosed</th> \n",
       "        <td id=\"T_c506c746_5681_11e8_a3b0_acbc32a6fa5brow2_col0\" class=\"data row2 col0\" >8</td> \n",
       "        <td id=\"T_c506c746_5681_11e8_a3b0_acbc32a6fa5brow2_col1\" class=\"data row2 col1\" >1.4%</td> \n",
       "    </tr></tbody> \n",
       "</table> "
      ],
      "text/plain": [
       "<pandas.io.formats.style.Styler at 0x106f5e860>"
      ]
     },
     "execution_count": 20,
     "metadata": {},
     "output_type": "execute_result"
    }
   ],
   "source": [
    "# Percentage and count of players \n",
    "no_dup_players = pur_df.drop_duplicates(['SN'], keep ='last')\n",
    "gender_count = no_dup_players['Gender'].value_counts().reset_index()\n",
    "gender_count['% of Players'] = gender_count['Gender']/total_players * 100\n",
    "#rename columns\n",
    "gender_count.rename(columns = {'index': 'Gender', 'Gender': '# of Players'}, inplace = True)\n",
    "#fix index\n",
    "gender_count.set_index(['Gender'], inplace = True)\n",
    "gender_count.style.format({\"% of Players\": \"{:.1f}%\"})\n"
   ]
  },
  {
   "cell_type": "code",
   "execution_count": 16,
   "metadata": {},
   "outputs": [],
   "source": [
    "#Purchasing Analysis\n"
   ]
  },
  {
   "cell_type": "code",
   "execution_count": null,
   "metadata": {},
   "outputs": [],
   "source": []
  }
 ],
 "metadata": {
  "kernelspec": {
   "display_name": "Python 3",
   "language": "python",
   "name": "python3"
  },
  "language_info": {
   "codemirror_mode": {
    "name": "ipython",
    "version": 3
   },
   "file_extension": ".py",
   "mimetype": "text/x-python",
   "name": "python",
   "nbconvert_exporter": "python",
   "pygments_lexer": "ipython3",
   "version": "3.6.4"
  }
 },
 "nbformat": 4,
 "nbformat_minor": 2
}
